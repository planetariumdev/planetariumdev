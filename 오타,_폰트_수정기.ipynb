{
  "cells": [
    {
      "cell_type": "markdown",
      "metadata": {
        "id": "view-in-github",
        "colab_type": "text"
      },
      "source": [
        "<a href=\"https://colab.research.google.com/github/planetariumdev/planetariumdev/blob/main/%EC%98%A4%ED%83%80%2C_%ED%8F%B0%ED%8A%B8_%EC%88%98%EC%A0%95%EA%B8%B0.ipynb\" target=\"_parent\"><img src=\"https://colab.research.google.com/assets/colab-badge.svg\" alt=\"Open In Colab\"/></a>"
      ]
    },
    {
      "cell_type": "markdown",
      "metadata": {
        "id": "I-lNGvV7q15Y"
      },
      "source": [
        "Made by 까마커"
      ]
    },
    {
      "cell_type": "code",
      "execution_count": null,
      "metadata": {
        "id": "XJXorC8yh8_4"
      },
      "outputs": [],
      "source": [
        "from PIL import Image, ImageDraw, ImageFont"
      ]
    },
    {
      "cell_type": "code",
      "execution_count": null,
      "metadata": {
        "id": "jnrli1kmjHjM"
      },
      "outputs": [],
      "source": [
        "from google.colab import drive\n",
        "drive.mount('/content/drive')"
      ]
    },
    {
      "cell_type": "markdown",
      "metadata": {
        "id": "lkHLcfdeVWBd"
      },
      "source": [
        "***사용하기 전에 꼭 구글드라이브 최상단에 \"Subtitle 폴더\"를 만들고, 그 안에 각자 결과물을 담을 폴더를 만들어야 합니다.***"
      ]
    },
    {
      "cell_type": "code",
      "source": [],
      "metadata": {
        "id": "f-07EeMUJ9jm"
      },
      "execution_count": null,
      "outputs": []
    },
    {
      "cell_type": "markdown",
      "metadata": {
        "id": "hZnBtxGdrGVD"
      },
      "source": [
        "**위의** 두 코드를 실행하고, **Subtitle 폴더**에 **HCRDotum-Bold.ttf 파일**를 업로드합니다."
      ]
    },
    {
      "cell_type": "code",
      "execution_count": null,
      "metadata": {
        "cellView": "form",
        "id": "87vBdveSVcC0"
      },
      "outputs": [],
      "source": [
        "# @title 함수 정의\n",
        "SelectColor = \"\" # @param {\"type\":\"string\",\"placeholder\":\"(선택 사항) #OOOOOO 형식으로 입력하세요. 자막의 색을 결정합니다.\"}\n",
        "SelectOutlineColor = \"\" # @param {\"type\":\"string\",\"placeholder\":\"(선택 사항) #OOOOOO 형식으로 입력하세요. 자막의 윤곽선 색을 결정합니다.\"}\n",
        "SubtitleFontName = \"\" # @param {\"type\":\"string\",\"placeholder\":\"(선택 사항) 확장자 제외 폰트 파일 이름을 적는다. 폰트는 개별 지참해야함.\"}\n",
        "Fix = 0 # @param {\"type\":\"slider\",\"min\":-0.5,\"max\":0.5,\"step\":0.01}\n",
        "Transparency = 0 # @param {\"type\":\"slider\",\"min\":0,\"max\":255,\"step\":1}\n",
        "alpha = 1 # @param {\"type\":\"slider\",\"min\":1,\"max\":8,\"step\":0.5}\n",
        "sizeplus = 0 # @param {\"type\":\"slider\",\"min\":0,\"max\":80,\"step\":1}\n",
        "OutlineSize = 1.5 # @param {\"type\":\"slider\",\"min\":1,\"max\":3,\"step\":0.1}\n",
        "# @markdown Fix는 글꼴 수정 시, 양식에 어긋난 모습이 나올 경우 사용합니다. 기본값은 **0**입니다. 상하 위치만 조정됩니다.\n",
        "# 주석\n",
        "# @markdown 수치가 높아지면 자막 위치도 높아지며, 수치가 낮아지면 반대로 조정됩니다.\n",
        "# 주석\n",
        "# @markdown alpha 값을 높이면 화면 해상도가 그대로 증가합니다.\n",
        "# 주석\n",
        "# @markdown sizeplus 값을 높이면 폰트 크기가 증가합니다. 최대치 100일 시 2배로 커집니다.\n",
        "# 주석\n",
        "# @markdown OutlineSize 값만큼 텍스트 윤곽선의 두께가 배수로 커집니다.\n",
        "\n",
        "# 폰트 적용, 기본값 함초롬돋움.\n",
        "if SubtitleFontName == \"\":\n",
        "    SubtitleFontName = \"HCRDotum-Bold\"\n",
        "\n",
        "# 변수 기본값 설정\n",
        "if SelectColor == \"\":\n",
        "    SelectColor = \"#FFFFFF\"\n",
        "if SelectOutlineColor == \"\":\n",
        "    SelectOutlineColor = \"#000000\"\n",
        "\n",
        "# 투명도 관련 변수 작성 및 색상코드 확인\n",
        "c1 = int('0x'+SelectColor[1:3], 16)\n",
        "c2 = int('0x'+SelectColor[3:5], 16)\n",
        "c3 = int('0x'+SelectColor[5:7], 16)\n",
        "print('색상코드:', c1, c2, c3, 255-Transparency)\n",
        "\n",
        "# 반각 문자를 세는 함수\n",
        "def count_half(input):\n",
        "    # 모든 반각 문자 리스트와 카운트 0\n",
        "    halflist = \"0123456789abcdefghijklmnopqrstuvwxyzABCDEFGHIJKLMNOPQRSTUVWXYZ!\\\"#$%&'()*+,-./:;<=>?@[\\\\]^_`{|}~ \"\n",
        "    count = 0\n",
        "    # 반각 문자가 어느 정도 일치하는지 적은 반복문\n",
        "    for char in input:\n",
        "        if char in halflist:\n",
        "            count += 1\n",
        "    return count\n",
        "\n",
        "# 자막 제작 PIL 함수\n",
        "def MakeSubtitle(text, output_path):\n",
        "    # 캔버스 제작, 자막 내용 따라 길어지는 캔버스 크기\n",
        "    image_width = 2560 * alpha\n",
        "    image_height = 160 * alpha\n",
        "    image = Image.new(\"RGBA\", (image_width, image_height), (255, 255, 255, 0))\n",
        "    draw = ImageDraw.Draw(image)\n",
        "\n",
        "    # 글꼴과 크기 설정\n",
        "    font_path = \"/content/drive/MyDrive/Subtitle/%s.ttf\" % SubtitleFontName\n",
        "    font_text = ImageFont.truetype(font_path, (80 + sizeplus) * alpha)\n",
        "\n",
        "    # 자막 부분 색상 설정\n",
        "    text_color = (c1, c2, c3, 255-Transparency)\n",
        "    text_outline_color = SelectOutlineColor\n",
        "\n",
        "    # 텍스트의 크기를 구함.\n",
        "    size1 = draw.textbbox((0, 0), text, font=font_text)\n",
        "    text_width, text_height = size1[2] - size1[0], size1[3] - size1[1]\n",
        "\n",
        "    # 이미지 중앙 배치식.\n",
        "    position = ((image_width - text_width) // 2, (image_height - text_height) // 2)\n",
        "\n",
        "    # 자막 부분의 위치 설정\n",
        "    text_x = position[0]\n",
        "    text_y = position[1] - (Fix * 80 * alpha)\n",
        "\n",
        "    # 자막 부분의 테두리\n",
        "    for offset_x, offset_y in [((-1) * OutlineSize * alpha, (-1) * OutlineSize * alpha), (OutlineSize * alpha, (-1) * OutlineSize * alpha), ((-1) * OutlineSize * alpha, OutlineSize * alpha), (OutlineSize * alpha, OutlineSize * alpha)]:\n",
        "        draw.text((text_x + offset_x, text_y + offset_y), text, font=font_text, fill=text_outline_color)\n",
        "\n",
        "    # 자막 부분 작성\n",
        "    draw.text((text_x, text_y), text, font=font_text, fill=text_color)\n",
        "\n",
        "    # 이미지 저장\n",
        "    image.save(output_path)"
      ]
    },
    {
      "cell_type": "markdown",
      "metadata": {
        "id": "i_FEcUFQrCqN"
      },
      "source": [
        "위 코드를 실행하여 함수를 정의합니다."
      ]
    },
    {
      "cell_type": "code",
      "execution_count": null,
      "metadata": {
        "cellView": "form",
        "id": "Z4u8bONmVhl3"
      },
      "outputs": [],
      "source": [
        "# @title 코드 실행\n",
        "Subtitle = \"\" # @param {\"type\":\"string\",\"placeholder\":\"자막 내용을 여기에 작성해주세요.\"}\n",
        "FolderName = \"\" # @param {\"type\":\"string\",\"placeholder\":\"Subtitle 이하 폴더의 이름을 적어주세요. (없을 시 빈칸, 꼭 폴더명 뒤에 /를 적으세요. 예: Result/까마커/ )\"}\n",
        "FileName = \"\" # @param {\"type\":\"string\",\"placeholder\":\"png파일의 이름을 적어주세요. (확장자 제외)\"}\n",
        "\n",
        "# 이미지 저장\n",
        "file_path = \"/content/drive/MyDrive/Subtitle/%s%s.png\" % (FolderName, FileName)\n",
        "\n",
        "# 함수 실행\n",
        "MakeSubtitle(Subtitle, file_path)\n",
        "file_path"
      ]
    },
    {
      "cell_type": "markdown",
      "metadata": {
        "id": "GMk5gsWSrz3m"
      },
      "source": [
        "위 코드를 실행하면 파일이 설정한 경로에 저장됩니다. 또, 로컬 저장소에 파일을 바로 저장하고 싶을 때 밑의 코드를 실행합니다."
      ]
    },
    {
      "cell_type": "code",
      "execution_count": null,
      "metadata": {
        "colab": {
          "base_uri": "https://localhost:8080/",
          "height": 17
        },
        "id": "20I4HDmikogd",
        "outputId": "bd3c174b-2c1d-4ae4-973a-5414901e1f9b"
      },
      "outputs": [
        {
          "output_type": "display_data",
          "data": {
            "text/plain": [
              "<IPython.core.display.Javascript object>"
            ],
            "application/javascript": [
              "\n",
              "    async function download(id, filename, size) {\n",
              "      if (!google.colab.kernel.accessAllowed) {\n",
              "        return;\n",
              "      }\n",
              "      const div = document.createElement('div');\n",
              "      const label = document.createElement('label');\n",
              "      label.textContent = `Downloading \"${filename}\": `;\n",
              "      div.appendChild(label);\n",
              "      const progress = document.createElement('progress');\n",
              "      progress.max = size;\n",
              "      div.appendChild(progress);\n",
              "      document.body.appendChild(div);\n",
              "\n",
              "      const buffers = [];\n",
              "      let downloaded = 0;\n",
              "\n",
              "      const channel = await google.colab.kernel.comms.open(id);\n",
              "      // Send a message to notify the kernel that we're ready.\n",
              "      channel.send({})\n",
              "\n",
              "      for await (const message of channel.messages) {\n",
              "        // Send a message to notify the kernel that we're ready.\n",
              "        channel.send({})\n",
              "        if (message.buffers) {\n",
              "          for (const buffer of message.buffers) {\n",
              "            buffers.push(buffer);\n",
              "            downloaded += buffer.byteLength;\n",
              "            progress.value = downloaded;\n",
              "          }\n",
              "        }\n",
              "      }\n",
              "      const blob = new Blob(buffers, {type: 'application/binary'});\n",
              "      const a = document.createElement('a');\n",
              "      a.href = window.URL.createObjectURL(blob);\n",
              "      a.download = filename;\n",
              "      div.appendChild(a);\n",
              "      a.click();\n",
              "      div.remove();\n",
              "    }\n",
              "  "
            ]
          },
          "metadata": {}
        },
        {
          "output_type": "display_data",
          "data": {
            "text/plain": [
              "<IPython.core.display.Javascript object>"
            ],
            "application/javascript": [
              "download(\"download_b408517f-72d4-45db-bc2d-6a59569f4253\", \"\\uae4c\\ub9c8\\ucee4\\uc1fc\\uce20_18.png\", 26487)"
            ]
          },
          "metadata": {}
        }
      ],
      "source": [
        "from google.colab import files\n",
        "files.download(file_path)"
      ]
    }
  ],
  "metadata": {
    "colab": {
      "provenance": [],
      "include_colab_link": true
    },
    "kernelspec": {
      "display_name": "Python 3",
      "name": "python3"
    },
    "language_info": {
      "name": "python"
    }
  },
  "nbformat": 4,
  "nbformat_minor": 0
}